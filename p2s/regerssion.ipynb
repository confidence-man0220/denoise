{
 "cells": [
  {
   "cell_type": "code",
   "execution_count": null,
   "id": "initial_id",
   "metadata": {
    "collapsed": true
   },
   "outputs": [],
   "source": [
    "import sys\n",
    "sys.path.append(\"..\")\n",
    "\n",
    "import numpy as np\n",
    "import time\n",
    "import matplotlib.pyplot as plt\n",
    "from model.patch2self import patch2self\n",
    "from dipy.io.image import save_nifti, load_nifti\n",
    "from dipy.data import read_stanford_labels\n"
   ]
  },
  {
   "cell_type": "code",
   "execution_count": null,
   "outputs": [],
   "source": [
    "hardi_img, gtab, labels_img = read_stanford_labels()\n",
    "data = hardi_img.get_data()\n",
    "affine = np.eye(4)"
   ],
   "metadata": {
    "collapsed": false
   },
   "id": "dee157d8ee837178"
  },
  {
   "cell_type": "code",
   "execution_count": null,
   "outputs": [],
   "source": [
    "t1 = time.time()\n",
    "denoised_sh = patch2self(data, model='ols')\n",
    "t2 = time.time()\n",
    "print('Time Taken: ', t2-t1)"
   ],
   "metadata": {
    "collapsed": false
   },
   "id": "12718d5660017eee"
  },
  {
   "cell_type": "code",
   "execution_count": null,
   "outputs": [],
   "source": [
    "sli = ..\n",
    "vol = ..\n",
    "orig1 = data[:, :, sli, vol]\n",
    "\n",
    "den1 = denoised_sh[:, :, sli, vol]\n",
    "rms_diff1 = np.sqrt((orig1 - den1) ** 2)\n",
    "\n",
    "fig, ax = plt.subplots(1, 3, figsize=(30, 30))\n",
    "ax[0].imshow(orig1.T, cmap='gray', origin='lower', interpolation='None')\n",
    "ax[0].set_title('Original')\n",
    "ax[0].set_axis_off()\n",
    "ax[1].imshow(den1.T, cmap='gray', origin='lower', interpolation='None')\n",
    "ax[1].set_title('Patch2Self')\n",
    "ax[1].set_axis_off()\n",
    "ax[2].imshow(rms_diff1.T, cmap='gray', origin='lower', interpolation='None')\n",
    "ax[2].set_title('Residual')\n",
    "ax[2].set_axis_off()\n",
    "plt.show()"
   ],
   "metadata": {
    "collapsed": false
   },
   "id": "ebc85f54f6b86f73"
  },
  {
   "cell_type": "code",
   "execution_count": null,
   "outputs": [],
   "source": [
    "t1 = time.time()\n",
    "denoised_sh_ridge = patch2self(data, model='ridge')\n",
    "t2 = time.time()\n",
    "print('Time Taken: ', t2-t1)"
   ],
   "metadata": {
    "collapsed": false
   },
   "id": "3eee60dd96246ced"
  },
  {
   "cell_type": "code",
   "execution_count": null,
   "outputs": [],
   "source": [
    "sli = ,,\n",
    "vol = ,,\n",
    "orig1 = data[:, :, sli, vol]\n",
    "\n",
    "den1 = denoised_sh_ridge[:, :, sli, vol]\n",
    "rms_diff1 = np.sqrt((orig1 - den1) ** 2)\n",
    "\n",
    "fig, ax = plt.subplots(1, 3, figsize=(30, 30))\n",
    "ax[0].imshow(orig1.T, cmap='gray', origin='lower', interpolation='None')\n",
    "ax[0].set_title('Original')\n",
    "ax[0].set_axis_off()\n",
    "ax[1].imshow(den1.T, cmap='gray', origin='lower', interpolation='None')\n",
    "ax[1].set_title('Patch2Self')\n",
    "ax[1].set_axis_off()\n",
    "ax[2].imshow(rms_diff1.T, cmap='gray', origin='lower', interpolation='None')\n",
    "ax[2].set_title('Residual')\n",
    "ax[2].set_axis_off()\n",
    "plt.show()"
   ],
   "metadata": {
    "collapsed": false
   },
   "id": "4059f5e560eddd4b"
  },
  {
   "cell_type": "code",
   "execution_count": null,
   "outputs": [],
   "source": [
    "import warnings\n",
    "warnings.filterwarnings('ignore')\n",
    "\n",
    "t1 = time.time()\n",
    "denoised_sh_lasso = patch2self(data, model='lasso')\n",
    "t2 = time.time()\n",
    "print('Time Taken: ', t2-t1)"
   ],
   "metadata": {
    "collapsed": false
   },
   "id": "6f93dcc92e9f1381"
  },
  {
   "cell_type": "code",
   "execution_count": null,
   "outputs": [],
   "source": [
    "sli = ,,\n",
    "vol = ,,\n",
    "orig1 = data[:, :, sli, vol]\n",
    "\n",
    "den1 = denoised_sh_lasso[:, :, sli, vol]\n",
    "rms_diff1 = np.sqrt((orig1 - den1) ** 2)\n",
    "\n",
    "fig, ax = plt.subplots(1, 3, figsize=(30, 30))\n",
    "ax[0].imshow(orig1.T, cmap='gray', origin='lower', interpolation='None')\n",
    "ax[0].set_title('Original')\n",
    "ax[0].set_axis_off()\n",
    "ax[1].imshow(den1.T, cmap='gray', origin='lower', interpolation='None')\n",
    "ax[1].set_title('Patch2Self')\n",
    "ax[1].set_axis_off()\n",
    "ax[2].imshow(rms_diff1.T, cmap='gray', origin='lower', interpolation='None')\n",
    "ax[2].set_title('Residual')\n",
    "ax[2].set_axis_off()\n",
    "plt.show()"
   ],
   "metadata": {
    "collapsed": false
   },
   "id": "72a27587f987f519"
  },
  {
   "cell_type": "code",
   "execution_count": null,
   "outputs": [],
   "source": [
    "self_supervised_loss_OLS = []\n",
    "for i in range(0, data.shape[3]):\n",
    "    loss = np.mean((data[..., i] - denoised_sh[..., i])**2)\n",
    "    self_supervised_loss_OLS.append(loss.mean())\n",
    "    \n",
    "self_supervised_loss_ridge = []\n",
    "for i in range(0, data.shape[3]):\n",
    "    loss = np.mean((data[..., i] - denoised_sh_ridge[..., i])**2)\n",
    "    self_supervised_loss_ridge.append(loss.mean())\n",
    "    \n",
    "self_supervised_loss_lasso = []\n",
    "for i in range(0, data.shape[3]):\n",
    "    loss = np.mean((data[..., i] - denoised_sh_lasso[..., i])**2)\n",
    "    self_supervised_loss_lasso.append(loss.mean())\n",
    "    "
   ],
   "metadata": {
    "collapsed": false
   },
   "id": "8ca8ad59edbfafca"
  },
  {
   "cell_type": "code",
   "execution_count": null,
   "outputs": [],
   "source": [
    "import pandas as pd\n",
    "\n",
    "df = pd.DataFrame({\"Volume\":np.arange(160), # 160 because the Stanford HARDI dataset has 160 volumes\n",
    "                   \"OLS\":self_supervised_loss_OLS, \n",
    "                   \"Ridge\":self_supervised_loss_ridge,\n",
    "                   \"Lasso\":self_supervised_loss_lasso}) "
   ],
   "metadata": {
    "collapsed": false
   },
   "id": "2deacfe05f0dc1d3"
  },
  {
   "cell_type": "code",
   "execution_count": null,
   "outputs": [],
   "source": [
    "%matplotlib inline\n",
    "df.plot(x=\"Volume\", y=[\"OLS\", \"Ridge\", \"Lasso\"], kind=\"line\")\n",
    "plt.legend(fontsize='xx-large')"
   ],
   "metadata": {
    "collapsed": false
   },
   "id": "f362670d445f58a7"
  },
  {
   "cell_type": "code",
   "execution_count": null,
   "outputs": [],
   "source": [],
   "metadata": {
    "collapsed": false
   },
   "id": "4d948668365d7cbb"
  }
 ],
 "metadata": {
  "kernelspec": {
   "display_name": "Python 3",
   "language": "python",
   "name": "python3"
  },
  "language_info": {
   "codemirror_mode": {
    "name": "ipython",
    "version": 2
   },
   "file_extension": ".py",
   "mimetype": "text/x-python",
   "name": "python",
   "nbconvert_exporter": "python",
   "pygments_lexer": "ipython2",
   "version": "2.7.6"
  }
 },
 "nbformat": 4,
 "nbformat_minor": 5
}
