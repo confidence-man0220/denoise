{
 "cells": [
  {
   "cell_type": "code",
   "execution_count": null,
   "id": "initial_id",
   "metadata": {
    "collapsed": true
   },
   "outputs": [],
   "source": [
    "import sys\n",
    "sys.path.append('..')\n",
    "\n",
    "from model.patch2self import patch2self\n",
    "\n",
    "from dipy.io.image import save_nifti, load_nifti\n",
    "from dipy.io import read_bvals_bvecs\n",
    "\n",
    "import numpy as np"
   ]
  },
  {
   "cell_type": "code",
   "execution_count": null,
   "outputs": [],
   "source": [
    "data, _ = load_nifti('xx.nii.gz')\n",
    "s3s_mp, _ = load_nifti('xx.nii.gz')"
   ],
   "metadata": {
    "collapsed": false
   },
   "id": "1818328597a79e14"
  },
  {
   "cell_type": "code",
   "execution_count": null,
   "outputs": [],
   "source": [
    "s3s_p2s = patch2self(data)"
   ],
   "metadata": {
    "collapsed": false
   },
   "id": "b7bfccc3dcad3fb2"
  },
  {
   "cell_type": "code",
   "execution_count": null,
   "outputs": [],
   "source": [
    "import matplotlib.pyplot as plt\n",
    "\n",
    "sli = ,,\n",
    "vol = ,,\n",
    "\n",
    "orig = data[:, :, sli, vol]\n",
    "\n",
    "den = s3s_mp[:, :, sli, vol]\n",
    "rms_diff = np.sqrt((orig - den) ** 2)\n",
    "\n",
    "fig, ax = plt.subplots(1, 3, figsize=(30, 30))\n",
    "ax[0].imshow(orig.T, cmap='gray', origin='lower', interpolation='None')\n",
    "ax[0].set_title('Original Data')\n",
    "ax[0].set_axis_off()\n",
    "ax[1].imshow(den.T, cmap='gray', origin='lower', interpolation='None')\n",
    "ax[1].set_title('Patch2Self')\n",
    "ax[1].set_axis_off()\n",
    "ax[2].imshow(rms_diff.T, cmap='gray', origin='lower', interpolation='None')\n",
    "ax[2].set_title('Residual')\n",
    "ax[2].set_axis_off()\n",
    "plt.show()"
   ],
   "metadata": {
    "collapsed": false
   },
   "id": "d802c274d3000091"
  },
  {
   "cell_type": "code",
   "execution_count": null,
   "outputs": [],
   "source": [],
   "metadata": {
    "collapsed": false
   },
   "id": "9d52ac96ba04030d"
  }
 ],
 "metadata": {
  "kernelspec": {
   "display_name": "Python 3",
   "language": "python",
   "name": "python3"
  },
  "language_info": {
   "codemirror_mode": {
    "name": "ipython",
    "version": 2
   },
   "file_extension": ".py",
   "mimetype": "text/x-python",
   "name": "python",
   "nbconvert_exporter": "python",
   "pygments_lexer": "ipython2",
   "version": "2.7.6"
  }
 },
 "nbformat": 4,
 "nbformat_minor": 5
}
