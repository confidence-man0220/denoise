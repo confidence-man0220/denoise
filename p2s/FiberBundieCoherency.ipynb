{
 "cells": [
  {
   "cell_type": "code",
   "execution_count": null,
   "id": "initial_id",
   "metadata": {
    "collapsed": true
   },
   "outputs": [],
   "source": [
    "interactive = True\n",
    "\n",
    "import numpy as np\n",
    "from dipy.core.gradients import gradient_table\n",
    "from dipy.data import get_fnames\n",
    "from dipy.io.image import load_nifti_data, load_nifti\n",
    "from dipy.io.gradients import read_bvals_bvecs\n",
    "\n",
    "\n",
    "np.random.seed(1)\n",
    "\n",
    "hardi_fname, hardi_bval_fname, hardi_bvec_fname = get_fnames('stanford_hardi')\n",
    "label_fname = get_fnames('stanford_labels')\n",
    "t1_fname = get_fnames('stanford_t1')\n",
    "\n",
    "data, affine = load_nifti(hardi_fname)\n",
    "labels = load_nifti_data(label_fname)\n",
    "t1_data = load_nifti_data(t1_fname)\n",
    "bvals, bvecs = read_bvals_bvecs(hardi_bval_fname, hardi_bvec_fname)\n",
    "gtab = gradient_table(bvals, bvecs)\n",
    "\n",
    "dshape = data.shape[:-1]\n",
    "xa, xb, ya, yb, za, zb = [15, 42, 10, 65, 18, 65]\n",
    "data_small = data[xa:xb, ya:yb, za:zb]\n",
    "selectionmask = np.zeros(dshape, 'bool')\n",
    "selectionmask[xa:xb, ya:yb, za:zb] = True"
   ]
  },
  {
   "cell_type": "code",
   "execution_count": null,
   "outputs": [],
   "source": [
    "'''\n",
    "how to continu???\n",
    "'''"
   ],
   "metadata": {
    "collapsed": false
   },
   "id": "b070868373dafb84"
  }
 ],
 "metadata": {
  "kernelspec": {
   "display_name": "Python 3",
   "language": "python",
   "name": "python3"
  },
  "language_info": {
   "codemirror_mode": {
    "name": "ipython",
    "version": 2
   },
   "file_extension": ".py",
   "mimetype": "text/x-python",
   "name": "python",
   "nbconvert_exporter": "python",
   "pygments_lexer": "ipython2",
   "version": "2.7.6"
  }
 },
 "nbformat": 4,
 "nbformat_minor": 5
}
